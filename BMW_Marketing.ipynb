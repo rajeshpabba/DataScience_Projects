{
 "cells": [
  {
   "cell_type": "markdown",
   "id": "fbdb304e",
   "metadata": {},
   "source": [
    "<h1 style=\"color:blue\"><center>Analysis on BMW used car sales</center></h1>"
   ]
  },
  {
   "cell_type": "markdown",
   "id": "7a526b02",
   "metadata": {},
   "source": [
    "### Project Name: BMW Sales <br/>\n",
   ]
  },
  {
   "cell_type": "markdown",
   "id": "c97bb4b7",
   "metadata": {},
   "source": [
    "<h1><center>Business Problem</center></h1>"
   ]
  },
  {
   "cell_type": "markdown",
   "id": "7e7a1e8b",
   "metadata": {},
   "source": [
    "Used cars are very much in demand in the Automobile industry.As an end user, while buying or selling a used BMW car, he/she would like to know the price based on certain features."
   ]
  },
  {
   "cell_type": "markdown",
   "id": "2ab4f2b6",
   "metadata": {},
   "source": [
    "<h1><center>Exploratory Data Analysis</center></h1>"
   ]
  },
  {
   "cell_type": "markdown",
   "id": "e8c5ac6f",
   "metadata": {},
   "source": [
    "### Import Libraries"
   ]
  },
  {
   "cell_type": "code",
   "execution_count": 1,
   "id": "355cadd8",
   "metadata": {},
   "outputs": [],
   "source": [
    "import pandas as pd\n",
    "import pathlib as path\n",
    "import matplotlib.pyplot as plt\n",
    "import numpy as np\n",
    "from sklearn.model_selection import train_test_split\n",
    "from sklearn.metrics import confusion_matrix, classification_report, accuracy_score, accuracy_score, recall_score, precision_score, f1_score\n",
    "import warnings\n",
    "warnings.filterwarnings(\"ignore\")\n",
    "import seaborn as sns\n",
    "from pandas import get_dummies\n",
    "from numpy import mean\n",
    "from numpy import std\n",
    "from sklearn.datasets import make_classification\n",
    "from sklearn.model_selection import cross_val_score\n",
    "from sklearn.model_selection import RepeatedStratifiedKFold\n",
    "from sklearn.ensemble import RandomForestClassifier\n"
   ]
  },
  {
   "cell_type": "code",
   "execution_count": 2,
   "id": "78e7f4ec",
   "metadata": {},
   "outputs": [],
   "source": [
    "bmw_data = pd.read_csv(\"bmw.csv\")"
   ]
  },
  {
   "cell_type": "code",
   "execution_count": 3,
   "id": "7813bd37",
   "metadata": {
    "scrolled": true
   },
   "outputs": [
    {
     "data": {
      "text/html": [
       "<div>\n",
       "<style scoped>\n",
       "    .dataframe tbody tr th:only-of-type {\n",
       "        vertical-align: middle;\n",
       "    }\n",
       "\n",
       "    .dataframe tbody tr th {\n",
       "        vertical-align: top;\n",
       "    }\n",
       "\n",
       "    .dataframe thead th {\n",
       "        text-align: right;\n",
       "    }\n",
       "</style>\n",
       "<table border=\"1\" class=\"dataframe\">\n",
       "  <thead>\n",
       "    <tr style=\"text-align: right;\">\n",
       "      <th></th>\n",
       "      <th>model</th>\n",
       "      <th>year</th>\n",
       "      <th>price</th>\n",
       "      <th>transmission</th>\n",
       "      <th>mileage</th>\n",
       "      <th>fuelType</th>\n",
       "      <th>tax</th>\n",
       "      <th>mpg</th>\n",
       "      <th>engineSize</th>\n",
       "    </tr>\n",
       "  </thead>\n",
       "  <tbody>\n",
       "    <tr>\n",
       "      <th>0</th>\n",
       "      <td>5 Series</td>\n",
       "      <td>2014</td>\n",
       "      <td>11200</td>\n",
       "      <td>Automatic</td>\n",
       "      <td>67068</td>\n",
       "      <td>Diesel</td>\n",
       "      <td>125</td>\n",
       "      <td>57.6</td>\n",
       "      <td>2.0</td>\n",
       "    </tr>\n",
       "    <tr>\n",
       "      <th>1</th>\n",
       "      <td>6 Series</td>\n",
       "      <td>2018</td>\n",
       "      <td>27000</td>\n",
       "      <td>Automatic</td>\n",
       "      <td>14827</td>\n",
       "      <td>Petrol</td>\n",
       "      <td>145</td>\n",
       "      <td>42.8</td>\n",
       "      <td>2.0</td>\n",
       "    </tr>\n",
       "    <tr>\n",
       "      <th>2</th>\n",
       "      <td>5 Series</td>\n",
       "      <td>2016</td>\n",
       "      <td>16000</td>\n",
       "      <td>Automatic</td>\n",
       "      <td>62794</td>\n",
       "      <td>Diesel</td>\n",
       "      <td>160</td>\n",
       "      <td>51.4</td>\n",
       "      <td>3.0</td>\n",
       "    </tr>\n",
       "    <tr>\n",
       "      <th>3</th>\n",
       "      <td>1 Series</td>\n",
       "      <td>2017</td>\n",
       "      <td>12750</td>\n",
       "      <td>Automatic</td>\n",
       "      <td>26676</td>\n",
       "      <td>Diesel</td>\n",
       "      <td>145</td>\n",
       "      <td>72.4</td>\n",
       "      <td>1.5</td>\n",
       "    </tr>\n",
       "    <tr>\n",
       "      <th>4</th>\n",
       "      <td>7 Series</td>\n",
       "      <td>2014</td>\n",
       "      <td>14500</td>\n",
       "      <td>Automatic</td>\n",
       "      <td>39554</td>\n",
       "      <td>Diesel</td>\n",
       "      <td>160</td>\n",
       "      <td>50.4</td>\n",
       "      <td>3.0</td>\n",
       "    </tr>\n",
       "  </tbody>\n",
       "</table>\n",
       "</div>"
      ],
      "text/plain": [
       "       model  year  price transmission  mileage fuelType  tax   mpg  \\\n",
       "0   5 Series  2014  11200    Automatic    67068   Diesel  125  57.6   \n",
       "1   6 Series  2018  27000    Automatic    14827   Petrol  145  42.8   \n",
       "2   5 Series  2016  16000    Automatic    62794   Diesel  160  51.4   \n",
       "3   1 Series  2017  12750    Automatic    26676   Diesel  145  72.4   \n",
       "4   7 Series  2014  14500    Automatic    39554   Diesel  160  50.4   \n",
       "\n",
       "   engineSize  \n",
       "0         2.0  \n",
       "1         2.0  \n",
       "2         3.0  \n",
       "3         1.5  \n",
       "4         3.0  "
      ]
     },
     "execution_count": 3,
     "metadata": {},
     "output_type": "execute_result"
    }
   ],
   "source": [
    "bmw_data.head(5)"
   ]
  },
  {
   "cell_type": "code",
   "execution_count": 4,
   "id": "4294478e",
   "metadata": {},
   "outputs": [
    {
     "name": "stdout",
     "output_type": "stream",
     "text": [
      "<class 'pandas.core.frame.DataFrame'>\n",
      "RangeIndex: 10781 entries, 0 to 10780\n",
      "Data columns (total 9 columns):\n",
      " #   Column        Non-Null Count  Dtype  \n",
      "---  ------        --------------  -----  \n",
      " 0   model         10781 non-null  object \n",
      " 1   year          10781 non-null  int64  \n",
      " 2   price         10781 non-null  int64  \n",
      " 3   transmission  10781 non-null  object \n",
      " 4   mileage       10781 non-null  int64  \n",
      " 5   fuelType      10781 non-null  object \n",
      " 6   tax           10781 non-null  int64  \n",
      " 7   mpg           10781 non-null  float64\n",
      " 8   engineSize    10781 non-null  float64\n",
      "dtypes: float64(2), int64(4), object(3)\n",
      "memory usage: 758.2+ KB\n"
     ]
    }
   ],
   "source": [
    "bmw_data.info()"
   ]
  },
  {
   "cell_type": "markdown",
   "id": "99d55daa",
   "metadata": {},
   "source": [
    " <b>Observation:</b> From the above data, no null values exists in the data."
   ]
  },
  {
   "cell_type": "code",
   "execution_count": 5,
   "id": "401013f3",
   "metadata": {},
   "outputs": [
    {
     "data": {
      "text/plain": [
       "(10781, 9)"
      ]
     },
     "execution_count": 5,
     "metadata": {},
     "output_type": "execute_result"
    }
   ],
   "source": [
    "bmw_data.shape"
   ]
  },
  {
   "cell_type": "code",
   "execution_count": 6,
   "id": "4c1eff6e",
   "metadata": {},
   "outputs": [
    {
     "data": {
      "text/html": [
       "<div>\n",
       "<style scoped>\n",
       "    .dataframe tbody tr th:only-of-type {\n",
       "        vertical-align: middle;\n",
       "    }\n",
       "\n",
       "    .dataframe tbody tr th {\n",
       "        vertical-align: top;\n",
       "    }\n",
       "\n",
       "    .dataframe thead th {\n",
       "        text-align: right;\n",
       "    }\n",
       "</style>\n",
       "<table border=\"1\" class=\"dataframe\">\n",
       "  <thead>\n",
       "    <tr style=\"text-align: right;\">\n",
       "      <th></th>\n",
       "      <th>year</th>\n",
       "      <th>price</th>\n",
       "      <th>mileage</th>\n",
       "      <th>tax</th>\n",
       "      <th>mpg</th>\n",
       "      <th>engineSize</th>\n",
       "    </tr>\n",
       "  </thead>\n",
       "  <tbody>\n",
       "    <tr>\n",
       "      <th>count</th>\n",
       "      <td>10781.000000</td>\n",
       "      <td>10781.000000</td>\n",
       "      <td>10781.000000</td>\n",
       "      <td>10781.000000</td>\n",
       "      <td>10781.000000</td>\n",
       "      <td>10781.000000</td>\n",
       "    </tr>\n",
       "    <tr>\n",
       "      <th>mean</th>\n",
       "      <td>2017.078935</td>\n",
       "      <td>22733.408867</td>\n",
       "      <td>25496.986550</td>\n",
       "      <td>131.702068</td>\n",
       "      <td>56.399035</td>\n",
       "      <td>2.167767</td>\n",
       "    </tr>\n",
       "    <tr>\n",
       "      <th>std</th>\n",
       "      <td>2.349038</td>\n",
       "      <td>11415.528189</td>\n",
       "      <td>25143.192559</td>\n",
       "      <td>61.510755</td>\n",
       "      <td>31.336958</td>\n",
       "      <td>0.552054</td>\n",
       "    </tr>\n",
       "    <tr>\n",
       "      <th>min</th>\n",
       "      <td>1996.000000</td>\n",
       "      <td>1200.000000</td>\n",
       "      <td>1.000000</td>\n",
       "      <td>0.000000</td>\n",
       "      <td>5.500000</td>\n",
       "      <td>0.000000</td>\n",
       "    </tr>\n",
       "    <tr>\n",
       "      <th>25%</th>\n",
       "      <td>2016.000000</td>\n",
       "      <td>14950.000000</td>\n",
       "      <td>5529.000000</td>\n",
       "      <td>135.000000</td>\n",
       "      <td>45.600000</td>\n",
       "      <td>2.000000</td>\n",
       "    </tr>\n",
       "    <tr>\n",
       "      <th>50%</th>\n",
       "      <td>2017.000000</td>\n",
       "      <td>20462.000000</td>\n",
       "      <td>18347.000000</td>\n",
       "      <td>145.000000</td>\n",
       "      <td>53.300000</td>\n",
       "      <td>2.000000</td>\n",
       "    </tr>\n",
       "    <tr>\n",
       "      <th>75%</th>\n",
       "      <td>2019.000000</td>\n",
       "      <td>27940.000000</td>\n",
       "      <td>38206.000000</td>\n",
       "      <td>145.000000</td>\n",
       "      <td>62.800000</td>\n",
       "      <td>2.000000</td>\n",
       "    </tr>\n",
       "    <tr>\n",
       "      <th>max</th>\n",
       "      <td>2020.000000</td>\n",
       "      <td>123456.000000</td>\n",
       "      <td>214000.000000</td>\n",
       "      <td>580.000000</td>\n",
       "      <td>470.800000</td>\n",
       "      <td>6.600000</td>\n",
       "    </tr>\n",
       "  </tbody>\n",
       "</table>\n",
       "</div>"
      ],
      "text/plain": [
       "               year          price        mileage           tax           mpg  \\\n",
       "count  10781.000000   10781.000000   10781.000000  10781.000000  10781.000000   \n",
       "mean    2017.078935   22733.408867   25496.986550    131.702068     56.399035   \n",
       "std        2.349038   11415.528189   25143.192559     61.510755     31.336958   \n",
       "min     1996.000000    1200.000000       1.000000      0.000000      5.500000   \n",
       "25%     2016.000000   14950.000000    5529.000000    135.000000     45.600000   \n",
       "50%     2017.000000   20462.000000   18347.000000    145.000000     53.300000   \n",
       "75%     2019.000000   27940.000000   38206.000000    145.000000     62.800000   \n",
       "max     2020.000000  123456.000000  214000.000000    580.000000    470.800000   \n",
       "\n",
       "         engineSize  \n",
       "count  10781.000000  \n",
       "mean       2.167767  \n",
       "std        0.552054  \n",
       "min        0.000000  \n",
       "25%        2.000000  \n",
       "50%        2.000000  \n",
       "75%        2.000000  \n",
       "max        6.600000  "
      ]
     },
     "execution_count": 6,
     "metadata": {},
     "output_type": "execute_result"
    }
   ],
   "source": [
    "bmw_data.describe()"
   ]
  },
  {
   "cell_type": "markdown",
   "id": "0156b4e5",
   "metadata": {},
   "source": [
    "<b>Observation:</b> From the above data, for tax and enginesize has zero values.Need to replace with NAN and drop them."
   ]
  },
  {
   "cell_type": "code",
   "execution_count": 7,
   "id": "5b90c6a5",
   "metadata": {},
   "outputs": [],
   "source": [
    "bmw_data[\"engineSize\"]=bmw_data[\"engineSize\"].replace(0,np.nan)\n",
    "bmw_data[\"tax\"]=bmw_data[\"tax\"].replace(0,np.nan)"
   ]
  },
  {
   "cell_type": "code",
   "execution_count": 8,
   "id": "9ebd0442",
   "metadata": {},
   "outputs": [
    {
     "data": {
      "text/plain": [
       "model             0\n",
       "year              0\n",
       "price             0\n",
       "transmission      0\n",
       "mileage           0\n",
       "fuelType          0\n",
       "tax             340\n",
       "mpg               0\n",
       "engineSize       47\n",
       "dtype: int64"
      ]
     },
     "execution_count": 8,
     "metadata": {},
     "output_type": "execute_result"
    }
   ],
   "source": [
    "bmw_data.isna().sum()"
   ]
  },
  {
   "cell_type": "code",
   "execution_count": 9,
   "id": "8c7859ce",
   "metadata": {},
   "outputs": [],
   "source": [
    "bmw_data.dropna( inplace = True)"
   ]
  },
  {
   "cell_type": "code",
   "execution_count": 10,
   "id": "ca9c2817",
   "metadata": {},
   "outputs": [
    {
     "data": {
      "text/plain": [
       "(10419, 9)"
      ]
     },
     "execution_count": 10,
     "metadata": {},
     "output_type": "execute_result"
    }
   ],
   "source": [
    "bmw_data.shape"
   ]
  },
  {
   "cell_type": "code",
   "execution_count": 11,
   "id": "1949cde6",
   "metadata": {
    "scrolled": true
   },
   "outputs": [
    {
     "data": {
      "text/plain": [
       "117"
      ]
     },
     "execution_count": 11,
     "metadata": {},
     "output_type": "execute_result"
    }
   ],
   "source": [
    "bmw_data.duplicated().sum()"
   ]
  },
  {
   "cell_type": "code",
   "execution_count": 12,
   "id": "893da0c2",
   "metadata": {},
   "outputs": [],
   "source": [
    "bmw_data.drop_duplicates(inplace=True)"
   ]
  },
  {
   "cell_type": "code",
   "execution_count": null,
   "id": "44b2824c",
   "metadata": {},
   "outputs": [],
   "source": []
  },
  {
   "cell_type": "code",
   "execution_count": 13,
   "id": "a293d524",
   "metadata": {
    "scrolled": true
   },
   "outputs": [
    {
     "data": {
      "image/png": "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\n",
      "text/plain": [
       "<Figure size 432x288 with 1 Axes>"
      ]
     },
     "metadata": {},
     "output_type": "display_data"
    }
   ],
   "source": [
    "sns.set(style=\"darkgrid\")\n",
    "fuelvstrans=sns.histplot(bmw_data,x='fuelType',alpha = .7\n",
    "            ,hue = 'transmission', kde=True)\n",
    "fuelvstrans.set(xlabel='Fuel Type', ylabel='Count')\n",
    "plt.show()"
   ]
  },
  {
   "cell_type": "code",
   "execution_count": 14,
   "id": "8f1d2e33",
   "metadata": {
    "scrolled": false
   },
   "outputs": [
    {
     "data": {
      "image/png": "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\n",
      "text/plain": [
       "<Figure size 432x288 with 1 Axes>"
      ]
     },
     "metadata": {},
     "output_type": "display_data"
    }
   ],
   "source": [
    "\n",
    "ax = sns.countplot(x=\"model\", data=bmw_data,hue = 'transmission')\n",
    "\n",
    "ax.set_xticklabels(ax.get_xticklabels(), rotation=40, ha=\"right\")\n",
    "sns.set(rc = {'figure.figsize':(30,15)})\n",
    "plt.tight_layout()\n",
    "plt.show()"
   ]
  },
  {
   "cell_type": "code",
   "execution_count": 15,
   "id": "7d30a5b1",
   "metadata": {},
   "outputs": [
    {
     "data": {
      "text/plain": [
       "<AxesSubplot:xlabel='year', ylabel='Count'>"
      ]
     },
     "execution_count": 15,
     "metadata": {},
     "output_type": "execute_result"
    },
    {
     "data": {
      "image/png": "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\n",
      "text/plain": [
       "<Figure size 2160x1080 with 1 Axes>"
      ]
     },
     "metadata": {},
     "output_type": "display_data"
    }
   ],
   "source": [
    "sns.histplot(bmw_data,x=\"year\")"
   ]
  },
  {
   "cell_type": "code",
   "execution_count": 16,
   "id": "0f662134",
   "metadata": {
    "scrolled": true
   },
   "outputs": [
    {
     "data": {
      "text/plain": [
       "<AxesSubplot:>"
      ]
     },
     "execution_count": 16,
     "metadata": {},
     "output_type": "execute_result"
    },
    {
     "data": {
      "image/png": "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\n",
      "text/plain": [
       "<Figure size 2160x1080 with 2 Axes>"
      ]
     },
     "metadata": {},
     "output_type": "display_data"
    }
   ],
   "source": [
    "bmw_corr=bmw_data.corr()\n",
    "sns.heatmap(bmw_corr)"
   ]
  },
  {
   "cell_type": "code",
   "execution_count": 17,
   "id": "f7391828",
   "metadata": {},
   "outputs": [
    {
     "data": {
      "text/plain": [
       "price         1.000000\n",
       "year          0.624533\n",
       "engineSize    0.462230\n",
       "tax           0.234313\n",
       "mpg          -0.327140\n",
       "mileage      -0.604921\n",
       "Name: price, dtype: float64"
      ]
     },
     "execution_count": 17,
     "metadata": {},
     "output_type": "execute_result"
    }
   ],
   "source": [
    "price_corr_data = bmw_corr['price'].sort_values(ascending = False)\n",
    "price_corr_data\n",
    "# filtered_dep  = price_corr_data[price_corr_data > 0.02]\n",
    "# filtered_dep"
   ]
  },
  {
   "cell_type": "markdown",
   "id": "c2216fcc",
   "metadata": {},
   "source": [
    "### Convert categorical to integer type"
   ]
  },
  {
   "cell_type": "code",
   "execution_count": 18,
   "id": "18b6c5a5",
   "metadata": {
    "scrolled": true
   },
   "outputs": [
    {
     "data": {
      "text/html": [
       "<div>\n",
       "<style scoped>\n",
       "    .dataframe tbody tr th:only-of-type {\n",
       "        vertical-align: middle;\n",
       "    }\n",
       "\n",
       "    .dataframe tbody tr th {\n",
       "        vertical-align: top;\n",
       "    }\n",
       "\n",
       "    .dataframe thead th {\n",
       "        text-align: right;\n",
       "    }\n",
       "</style>\n",
       "<table border=\"1\" class=\"dataframe\">\n",
       "  <thead>\n",
       "    <tr style=\"text-align: right;\">\n",
       "      <th></th>\n",
       "      <th>model</th>\n",
       "      <th>year</th>\n",
       "      <th>price</th>\n",
       "      <th>transmission</th>\n",
       "      <th>mileage</th>\n",
       "      <th>fuelType</th>\n",
       "      <th>tax</th>\n",
       "      <th>mpg</th>\n",
       "      <th>engineSize</th>\n",
       "    </tr>\n",
       "  </thead>\n",
       "  <tbody>\n",
       "    <tr>\n",
       "      <th>0</th>\n",
       "      <td>5 Series</td>\n",
       "      <td>2014</td>\n",
       "      <td>11200</td>\n",
       "      <td>Automatic</td>\n",
       "      <td>67068</td>\n",
       "      <td>Diesel</td>\n",
       "      <td>125.0</td>\n",
       "      <td>57.6</td>\n",
       "      <td>2.0</td>\n",
       "    </tr>\n",
       "    <tr>\n",
       "      <th>1</th>\n",
       "      <td>6 Series</td>\n",
       "      <td>2018</td>\n",
       "      <td>27000</td>\n",
       "      <td>Automatic</td>\n",
       "      <td>14827</td>\n",
       "      <td>Petrol</td>\n",
       "      <td>145.0</td>\n",
       "      <td>42.8</td>\n",
       "      <td>2.0</td>\n",
       "    </tr>\n",
       "    <tr>\n",
       "      <th>2</th>\n",
       "      <td>5 Series</td>\n",
       "      <td>2016</td>\n",
       "      <td>16000</td>\n",
       "      <td>Automatic</td>\n",
       "      <td>62794</td>\n",
       "      <td>Diesel</td>\n",
       "      <td>160.0</td>\n",
       "      <td>51.4</td>\n",
       "      <td>3.0</td>\n",
       "    </tr>\n",
       "    <tr>\n",
       "      <th>3</th>\n",
       "      <td>1 Series</td>\n",
       "      <td>2017</td>\n",
       "      <td>12750</td>\n",
       "      <td>Automatic</td>\n",
       "      <td>26676</td>\n",
       "      <td>Diesel</td>\n",
       "      <td>145.0</td>\n",
       "      <td>72.4</td>\n",
       "      <td>1.5</td>\n",
       "    </tr>\n",
       "    <tr>\n",
       "      <th>4</th>\n",
       "      <td>7 Series</td>\n",
       "      <td>2014</td>\n",
       "      <td>14500</td>\n",
       "      <td>Automatic</td>\n",
       "      <td>39554</td>\n",
       "      <td>Diesel</td>\n",
       "      <td>160.0</td>\n",
       "      <td>50.4</td>\n",
       "      <td>3.0</td>\n",
       "    </tr>\n",
       "  </tbody>\n",
       "</table>\n",
       "</div>"
      ],
      "text/plain": [
       "       model  year  price transmission  mileage fuelType    tax   mpg  \\\n",
       "0   5 Series  2014  11200    Automatic    67068   Diesel  125.0  57.6   \n",
       "1   6 Series  2018  27000    Automatic    14827   Petrol  145.0  42.8   \n",
       "2   5 Series  2016  16000    Automatic    62794   Diesel  160.0  51.4   \n",
       "3   1 Series  2017  12750    Automatic    26676   Diesel  145.0  72.4   \n",
       "4   7 Series  2014  14500    Automatic    39554   Diesel  160.0  50.4   \n",
       "\n",
       "   engineSize  \n",
       "0         2.0  \n",
       "1         2.0  \n",
       "2         3.0  \n",
       "3         1.5  \n",
       "4         3.0  "
      ]
     },
     "execution_count": 18,
     "metadata": {},
     "output_type": "execute_result"
    }
   ],
   "source": [
    "bmw_data.head(5)"
   ]
  },
  {
   "cell_type": "markdown",
   "id": "d411e3e2",
   "metadata": {},
   "source": [
    "#### Manually set values for transmission and fuelType features  "
   ]
  },
  {
   "cell_type": "code",
   "execution_count": 19,
   "id": "515c691e",
   "metadata": {},
   "outputs": [],
   "source": [
    "bmw_data[\"transmission\"]=bmw_data[\"transmission\"].map({'Semi-Auto':0,'Automatic':1,'Manual':2})\n",
    "bmw_data[\"fuelType\"]=bmw_data[\"fuelType\"].map({'Diesel':0,'Petrol':1,'Hybrid':2,'Other':3,'Electric':4})"
   ]
  },
  {
   "cell_type": "markdown",
   "id": "af2a45fa",
   "metadata": {},
   "source": [
    "#### Implement one hot encoding for \"model\" feature "
   ]
  },
  {
   "cell_type": "code",
   "execution_count": 20,
   "id": "cedbea82",
   "metadata": {},
   "outputs": [],
   "source": [
    "dum=pd.get_dummies(bmw_data[\"model\"],drop_first=True)\n",
    "dum2=pd.DataFrame(dum,columns=dum.columns)\n",
    "df=pd.concat([bmw_data,dum2],axis=1)\n",
    "df.drop(\"model\",axis=1,inplace=True)"
   ]
  },
  {
   "cell_type": "markdown",
   "id": "0c0ef753",
   "metadata": {},
   "source": [
    "#### Separate target feature \"price\" from the train dataset"
   ]
  },
  {
   "cell_type": "code",
   "execution_count": 21,
   "id": "7d4e566c",
   "metadata": {},
   "outputs": [],
   "source": [
    "X=df.drop(\"price\",axis=1)\n",
    "y=df[\"price\"]"
   ]
  },
  {
   "cell_type": "markdown",
   "id": "c9e755e3",
   "metadata": {},
   "source": [
    "#### Split the data to a ratio of 80:20 (train_data : test_data)"
   ]
  },
  {
   "cell_type": "code",
   "execution_count": 22,
   "id": "dbcfaf51",
   "metadata": {},
   "outputs": [],
   "source": [
    "X_train, X_test, Y_train, Y_test = train_test_split(X, y, test_size = 0.2,random_state = 1)"
   ]
  },
  {
   "cell_type": "code",
   "execution_count": 23,
   "id": "f1246dca",
   "metadata": {},
   "outputs": [
    {
     "data": {
      "text/plain": [
       "(8241, 30)"
      ]
     },
     "execution_count": 23,
     "metadata": {},
     "output_type": "execute_result"
    }
   ],
   "source": [
    "X_train.shape"
   ]
  },
  {
   "cell_type": "code",
   "execution_count": 24,
   "id": "c1125ccd",
   "metadata": {},
   "outputs": [
    {
     "data": {
      "text/plain": [
       "9714    14485\n",
       "4727    19950\n",
       "3217    27980\n",
       "8482    12405\n",
       "2132    52990\n",
       "        ...  \n",
       "3023    13890\n",
       "8067    12099\n",
       "944     18998\n",
       "5385    23450\n",
       "255     18998\n",
       "Name: price, Length: 8241, dtype: int64"
      ]
     },
     "execution_count": 24,
     "metadata": {},
     "output_type": "execute_result"
    }
   ],
   "source": [
    "Y_train"
   ]
  },
  {
   "cell_type": "markdown",
   "id": "68cdbc87",
   "metadata": {},
   "source": [
    "<h1><center>Model Creation</center></h1>"
   ]
  },
  {
   "cell_type": "markdown",
   "id": "af7bad2b",
   "metadata": {},
   "source": [
    "#### Linear Regression Model"
   ]
  },
  {
   "cell_type": "code",
   "execution_count": 25,
   "id": "a7162ac8",
   "metadata": {},
   "outputs": [],
   "source": [
    "from sklearn.preprocessing import MinMaxScaler\n",
    "\n",
    "scalar = MinMaxScaler()\n",
    "\n",
    "X_train = scalar.fit_transform(X_train)\n",
    "\n",
    "X_test = scalar.fit_transform(X_test)"
   ]
  },
  {
   "cell_type": "code",
   "execution_count": 26,
   "id": "001bf7a3",
   "metadata": {},
   "outputs": [],
   "source": [
    "\n",
    "\n",
    "\n",
    "from sklearn.linear_model import LinearRegression\n",
    "model=LinearRegression()\n",
    "model.fit(X_train,Y_train)\n",
    "\n",
    "y_pred=model.predict(X_test)"
   ]
  },
  {
   "cell_type": "code",
   "execution_count": 27,
   "id": "cfb71658",
   "metadata": {},
   "outputs": [
    {
     "data": {
      "text/html": [
       "<div>\n",
       "<style scoped>\n",
       "    .dataframe tbody tr th:only-of-type {\n",
       "        vertical-align: middle;\n",
       "    }\n",
       "\n",
       "    .dataframe tbody tr th {\n",
       "        vertical-align: top;\n",
       "    }\n",
       "\n",
       "    .dataframe thead th {\n",
       "        text-align: right;\n",
       "    }\n",
       "</style>\n",
       "<table border=\"1\" class=\"dataframe\">\n",
       "  <thead>\n",
       "    <tr style=\"text-align: right;\">\n",
       "      <th></th>\n",
       "      <th>Actual</th>\n",
       "      <th>Predicted</th>\n",
       "    </tr>\n",
       "  </thead>\n",
       "  <tbody>\n",
       "    <tr>\n",
       "      <th>3251</th>\n",
       "      <td>15995</td>\n",
       "      <td>22523.664699</td>\n",
       "    </tr>\n",
       "    <tr>\n",
       "      <th>3566</th>\n",
       "      <td>10995</td>\n",
       "      <td>6502.843162</td>\n",
       "    </tr>\n",
       "    <tr>\n",
       "      <th>4774</th>\n",
       "      <td>32940</td>\n",
       "      <td>30993.974002</td>\n",
       "    </tr>\n",
       "    <tr>\n",
       "      <th>630</th>\n",
       "      <td>15998</td>\n",
       "      <td>17067.327650</td>\n",
       "    </tr>\n",
       "    <tr>\n",
       "      <th>8581</th>\n",
       "      <td>11000</td>\n",
       "      <td>8322.897441</td>\n",
       "    </tr>\n",
       "    <tr>\n",
       "      <th>...</th>\n",
       "      <td>...</td>\n",
       "      <td>...</td>\n",
       "    </tr>\n",
       "    <tr>\n",
       "      <th>1636</th>\n",
       "      <td>15297</td>\n",
       "      <td>20928.422206</td>\n",
       "    </tr>\n",
       "    <tr>\n",
       "      <th>9983</th>\n",
       "      <td>65948</td>\n",
       "      <td>68158.621503</td>\n",
       "    </tr>\n",
       "    <tr>\n",
       "      <th>3462</th>\n",
       "      <td>26980</td>\n",
       "      <td>32742.010848</td>\n",
       "    </tr>\n",
       "    <tr>\n",
       "      <th>6370</th>\n",
       "      <td>28260</td>\n",
       "      <td>28709.284906</td>\n",
       "    </tr>\n",
       "    <tr>\n",
       "      <th>21</th>\n",
       "      <td>12600</td>\n",
       "      <td>9997.440322</td>\n",
       "    </tr>\n",
       "  </tbody>\n",
       "</table>\n",
       "<p>2061 rows × 2 columns</p>\n",
       "</div>"
      ],
      "text/plain": [
       "      Actual     Predicted\n",
       "3251   15995  22523.664699\n",
       "3566   10995   6502.843162\n",
       "4774   32940  30993.974002\n",
       "630    15998  17067.327650\n",
       "8581   11000   8322.897441\n",
       "...      ...           ...\n",
       "1636   15297  20928.422206\n",
       "9983   65948  68158.621503\n",
       "3462   26980  32742.010848\n",
       "6370   28260  28709.284906\n",
       "21     12600   9997.440322\n",
       "\n",
       "[2061 rows x 2 columns]"
      ]
     },
     "execution_count": 27,
     "metadata": {},
     "output_type": "execute_result"
    }
   ],
   "source": [
    "df1 = pd.DataFrame({'Actual': Y_test, 'Predicted': y_pred})\n",
    "df1"
   ]
  },
  {
   "cell_type": "code",
   "execution_count": 28,
   "id": "3582f08b",
   "metadata": {},
   "outputs": [
    {
     "data": {
      "text/plain": [
       "array([22523.66469943,  6502.84316188, 30993.97400167, ...,\n",
       "       32742.01084752, 28709.28490585,  9997.44032157])"
      ]
     },
     "execution_count": 28,
     "metadata": {},
     "output_type": "execute_result"
    }
   ],
   "source": [
    "y_pred"
   ]
  },
  {
   "cell_type": "code",
   "execution_count": 29,
   "id": "3dae645f",
   "metadata": {},
   "outputs": [
    {
     "name": "stdout",
     "output_type": "stream",
     "text": [
      "77.16695203147783 %\n"
     ]
    }
   ],
   "source": [
    "from sklearn.metrics import r2_score\n",
    "r2_score=r2_score(Y_test,y_pred)\n",
    "r2_score\n",
    "print(r2_score*100,'%')"
   ]
  },
  {
   "cell_type": "code",
   "execution_count": 33,
   "id": "4e99fa0a",
   "metadata": {},
   "outputs": [
    {
     "name": "stdout",
     "output_type": "stream",
     "text": [
      "Mean Absolute Error (MAE):  3796.590918070285\n"
     ]
    }
   ],
   "source": [
    "from sklearn.model_selection import train_test_split\n",
    "from sklearn.ensemble import RandomForestRegressor\n",
    "from sklearn.metrics import mean_absolute_error\n",
    "rfc = RandomForestRegressor(n_estimators=10, random_state=0)\n",
    "rfc.fit(X_train, Y_train)\n",
    "y_pred = rfc.predict(X_test)\n",
    "rfc_mae = mean_absolute_error(Y_test, y_pred)\n",
    "print(\"Mean Absolute Error (MAE): \",rfc_mae)"
   ]
  },
  {
   "cell_type": "code",
   "execution_count": 34,
   "id": "faa2226d",
   "metadata": {},
   "outputs": [
    {
     "data": {
      "text/plain": [
       "[Text(0.5, 1.0, 'Actual Price vs. Prediction')]"
      ]
     },
     "execution_count": 34,
     "metadata": {},
     "output_type": "execute_result"
    },
    {
     "data": {
      "image/png": "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\n",
      "text/plain": [
       "<Figure size 1008x576 with 1 Axes>"
      ]
     },
     "metadata": {},
     "output_type": "display_data"
    }
   ],
   "source": [
    "plt.figure(figsize=(14,8))\n",
    "sns.scatterplot(x=Y_test, y=y_pred).set(title='Actual Price vs. Prediction')"
   ]
  },
  {
   "cell_type": "markdown",
   "id": "ceda0b4e",
   "metadata": {},
   "source": [
    "#### Observation :\n",
    "\n",
    "The evaluated MAE (Mean Absolute Error) of 3,797 Euros is considerably not so bad for an average price of 23,000 Euros.From the above scatter plot, it is similar to a straight line with a little bit of spread.And a few high priced data points are off which are going away the averrage error."
   ]
  },
  {
   "cell_type": "code",
   "execution_count": null,
   "id": "a97f8539",
   "metadata": {},
   "outputs": [],
   "source": []
  }
 ],
 "metadata": {
  "kernelspec": {
   "display_name": "Python 3 (ipykernel)",
   "language": "python",
   "name": "python3"
  },
  "language_info": {
   "codemirror_mode": {
    "name": "ipython",
    "version": 3
   },
   "file_extension": ".py",
   "mimetype": "text/x-python",
   "name": "python",
   "nbconvert_exporter": "python",
   "pygments_lexer": "ipython3",
   "version": "3.8.11"
  }
 },
 "nbformat": 4,
 "nbformat_minor": 5
}
