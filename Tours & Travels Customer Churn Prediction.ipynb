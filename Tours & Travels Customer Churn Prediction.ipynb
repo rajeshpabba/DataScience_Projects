{
 "cells": [
  {
   "cell_type": "markdown",
   "id": "629d0fe4",
   "metadata": {},
   "source": [
    "### Name - Rajesh Pabba\n",
    "### ID       - 0768784"
   ]
  },
  {
   "cell_type": "markdown",
   "id": "f705cd4e",
   "metadata": {},
   "source": [
    "# Tours & Travels Customer Churn Prediction"
   ]
  },
  {
   "cell_type": "markdown",
   "id": "2055f2ec",
   "metadata": {},
   "source": [
    "### Importing Libraries"
   ]
  },
  {
   "cell_type": "code",
   "execution_count": 1,
   "id": "6f9aa4fd",
   "metadata": {},
   "outputs": [],
   "source": [
    "import pandas as pd                                                                         # Importing pandas as pd\n",
    "import numpy as np                        \n",
    "from sklearn.model_selection import train_test_split                    # Importing train_test_split from sklearn\n",
    "from sklearn.ensemble import RandomForestClassifier                      # Importing RandomForestRegressor from sklearn# Importing numpy as np\n",
    "from sklearn import metrics\n",
    "from sklearn.metrics import mean_absolute_error, r2_score\n",
    "from sklearn.metrics import confusion_matrix, accuracy_score, precision_score, f1_score\n",
    "import warnings\n",
    "warnings.filterwarnings(\"ignore\")\n",
    "import seaborn as sns\n",
    "from rfpimp import *                                                                        # Importing rfpimp to get the importances of features\n",
    "import matplotlib.pyplot as plt"
   ]
  },
  {
   "cell_type": "code",
   "execution_count": 2,
   "id": "b53f26fd",
   "metadata": {},
   "outputs": [],
   "source": [
    "def sniff_modified(df):                                              # User defined function used to show some details of data \n",
    "    with pd.option_context(\"display.max_colwidth\", 20):              # Limiting the column width for display\n",
    "        info = pd.DataFrame()                                        # Creating a dataframe named info\n",
    "        info['data type'] = df.dtypes                                # Adding column data type which has the datatypes of features\n",
    "        info['percent missing'] = df.isnull().sum()*100/len(df)      # Adding column percent missing which has the percentage of missing data\n",
    "        info['No. unique'] = df.apply(lambda x: len(x.unique()))     # Adding column No. unique which gives the number of unique values of features\n",
    "        info['unique values'] = df.apply(lambda x: x.unique())       # Adding column unique values which has the unique values of features\n",
    "        return info.sort_values('data type')                         # Soring values wrt to datatype"
   ]
  },
  {
   "cell_type": "markdown",
   "id": "7982e54d",
   "metadata": {},
   "source": [
    "### Reading Data"
   ]
  },
  {
   "cell_type": "code",
   "execution_count": 3,
   "id": "12959886",
   "metadata": {},
   "outputs": [],
   "source": [
    "data = pd.read_csv('Customertravel.csv')"
   ]
  },
  {
   "cell_type": "code",
   "execution_count": 4,
   "id": "83dec538",
   "metadata": {},
   "outputs": [
    {
     "data": {
      "text/html": [
       "<div>\n",
       "<style scoped>\n",
       "    .dataframe tbody tr th:only-of-type {\n",
       "        vertical-align: middle;\n",
       "    }\n",
       "\n",
       "    .dataframe tbody tr th {\n",
       "        vertical-align: top;\n",
       "    }\n",
       "\n",
       "    .dataframe thead th {\n",
       "        text-align: right;\n",
       "    }\n",
       "</style>\n",
       "<table border=\"1\" class=\"dataframe\">\n",
       "  <thead>\n",
       "    <tr style=\"text-align: right;\">\n",
       "      <th></th>\n",
       "      <th>Age</th>\n",
       "      <th>FrequentFlyer</th>\n",
       "      <th>AnnualIncomeClass</th>\n",
       "      <th>ServicesOpted</th>\n",
       "      <th>AccountSyncedToSocialMedia</th>\n",
       "      <th>BookedHotelOrNot</th>\n",
       "      <th>Target</th>\n",
       "    </tr>\n",
       "  </thead>\n",
       "  <tbody>\n",
       "    <tr>\n",
       "      <th>0</th>\n",
       "      <td>34</td>\n",
       "      <td>No</td>\n",
       "      <td>Middle Income</td>\n",
       "      <td>6</td>\n",
       "      <td>No</td>\n",
       "      <td>Yes</td>\n",
       "      <td>0</td>\n",
       "    </tr>\n",
       "    <tr>\n",
       "      <th>1</th>\n",
       "      <td>34</td>\n",
       "      <td>Yes</td>\n",
       "      <td>Low Income</td>\n",
       "      <td>5</td>\n",
       "      <td>Yes</td>\n",
       "      <td>No</td>\n",
       "      <td>1</td>\n",
       "    </tr>\n",
       "    <tr>\n",
       "      <th>2</th>\n",
       "      <td>37</td>\n",
       "      <td>No</td>\n",
       "      <td>Middle Income</td>\n",
       "      <td>3</td>\n",
       "      <td>Yes</td>\n",
       "      <td>No</td>\n",
       "      <td>0</td>\n",
       "    </tr>\n",
       "    <tr>\n",
       "      <th>3</th>\n",
       "      <td>30</td>\n",
       "      <td>No</td>\n",
       "      <td>Middle Income</td>\n",
       "      <td>2</td>\n",
       "      <td>No</td>\n",
       "      <td>No</td>\n",
       "      <td>0</td>\n",
       "    </tr>\n",
       "    <tr>\n",
       "      <th>4</th>\n",
       "      <td>30</td>\n",
       "      <td>No</td>\n",
       "      <td>Low Income</td>\n",
       "      <td>1</td>\n",
       "      <td>No</td>\n",
       "      <td>No</td>\n",
       "      <td>0</td>\n",
       "    </tr>\n",
       "  </tbody>\n",
       "</table>\n",
       "</div>"
      ],
      "text/plain": [
       "   Age FrequentFlyer AnnualIncomeClass  ServicesOpted  \\\n",
       "0   34            No     Middle Income              6   \n",
       "1   34           Yes        Low Income              5   \n",
       "2   37            No     Middle Income              3   \n",
       "3   30            No     Middle Income              2   \n",
       "4   30            No        Low Income              1   \n",
       "\n",
       "  AccountSyncedToSocialMedia BookedHotelOrNot  Target  \n",
       "0                         No              Yes       0  \n",
       "1                        Yes               No       1  \n",
       "2                        Yes               No       0  \n",
       "3                         No               No       0  \n",
       "4                         No               No       0  "
      ]
     },
     "execution_count": 4,
     "metadata": {},
     "output_type": "execute_result"
    }
   ],
   "source": [
    "data.head()            # Displaying the first five rows using head function"
   ]
  },
  {
   "cell_type": "code",
   "execution_count": 5,
   "id": "7a50be94",
   "metadata": {},
   "outputs": [
    {
     "data": {
      "text/plain": [
       "(954, 7)"
      ]
     },
     "execution_count": 5,
     "metadata": {},
     "output_type": "execute_result"
    }
   ],
   "source": [
    "data.shape                                                             # Gives number of rows and columns"
   ]
  },
  {
   "cell_type": "code",
   "execution_count": 6,
   "id": "8e037eb6",
   "metadata": {},
   "outputs": [
    {
     "name": "stdout",
     "output_type": "stream",
     "text": [
      "<class 'pandas.core.frame.DataFrame'>\n",
      "RangeIndex: 954 entries, 0 to 953\n",
      "Data columns (total 7 columns):\n",
      " #   Column                      Non-Null Count  Dtype \n",
      "---  ------                      --------------  ----- \n",
      " 0   Age                         954 non-null    int64 \n",
      " 1   FrequentFlyer               954 non-null    object\n",
      " 2   AnnualIncomeClass           954 non-null    object\n",
      " 3   ServicesOpted               954 non-null    int64 \n",
      " 4   AccountSyncedToSocialMedia  954 non-null    object\n",
      " 5   BookedHotelOrNot            954 non-null    object\n",
      " 6   Target                      954 non-null    int64 \n",
      "dtypes: int64(3), object(4)\n",
      "memory usage: 52.3+ KB\n"
     ]
    }
   ],
   "source": [
    "data.info(verbose=True,show_counts=True)                                 # Gives the information about the dataframe"
   ]
  },
  {
   "cell_type": "markdown",
   "id": "cbd42525",
   "metadata": {},
   "source": [
    "### Exploratory Data Analysis"
   ]
  },
  {
   "cell_type": "code",
   "execution_count": 7,
   "id": "345d9cbd",
   "metadata": {},
   "outputs": [
    {
     "data": {
      "text/html": [
       "<div>\n",
       "<style scoped>\n",
       "    .dataframe tbody tr th:only-of-type {\n",
       "        vertical-align: middle;\n",
       "    }\n",
       "\n",
       "    .dataframe tbody tr th {\n",
       "        vertical-align: top;\n",
       "    }\n",
       "\n",
       "    .dataframe thead th {\n",
       "        text-align: right;\n",
       "    }\n",
       "</style>\n",
       "<table border=\"1\" class=\"dataframe\">\n",
       "  <thead>\n",
       "    <tr style=\"text-align: right;\">\n",
       "      <th></th>\n",
       "      <th>Age</th>\n",
       "      <th>ServicesOpted</th>\n",
       "      <th>Target</th>\n",
       "    </tr>\n",
       "  </thead>\n",
       "  <tbody>\n",
       "    <tr>\n",
       "      <th>count</th>\n",
       "      <td>954.000000</td>\n",
       "      <td>954.000000</td>\n",
       "      <td>954.000000</td>\n",
       "    </tr>\n",
       "    <tr>\n",
       "      <th>mean</th>\n",
       "      <td>32.109015</td>\n",
       "      <td>2.437107</td>\n",
       "      <td>0.234801</td>\n",
       "    </tr>\n",
       "    <tr>\n",
       "      <th>std</th>\n",
       "      <td>3.337388</td>\n",
       "      <td>1.606233</td>\n",
       "      <td>0.424097</td>\n",
       "    </tr>\n",
       "    <tr>\n",
       "      <th>min</th>\n",
       "      <td>27.000000</td>\n",
       "      <td>1.000000</td>\n",
       "      <td>0.000000</td>\n",
       "    </tr>\n",
       "    <tr>\n",
       "      <th>25%</th>\n",
       "      <td>30.000000</td>\n",
       "      <td>1.000000</td>\n",
       "      <td>0.000000</td>\n",
       "    </tr>\n",
       "    <tr>\n",
       "      <th>50%</th>\n",
       "      <td>31.000000</td>\n",
       "      <td>2.000000</td>\n",
       "      <td>0.000000</td>\n",
       "    </tr>\n",
       "    <tr>\n",
       "      <th>75%</th>\n",
       "      <td>35.000000</td>\n",
       "      <td>4.000000</td>\n",
       "      <td>0.000000</td>\n",
       "    </tr>\n",
       "    <tr>\n",
       "      <th>max</th>\n",
       "      <td>38.000000</td>\n",
       "      <td>6.000000</td>\n",
       "      <td>1.000000</td>\n",
       "    </tr>\n",
       "  </tbody>\n",
       "</table>\n",
       "</div>"
      ],
      "text/plain": [
       "              Age  ServicesOpted      Target\n",
       "count  954.000000     954.000000  954.000000\n",
       "mean    32.109015       2.437107    0.234801\n",
       "std      3.337388       1.606233    0.424097\n",
       "min     27.000000       1.000000    0.000000\n",
       "25%     30.000000       1.000000    0.000000\n",
       "50%     31.000000       2.000000    0.000000\n",
       "75%     35.000000       4.000000    0.000000\n",
       "max     38.000000       6.000000    1.000000"
      ]
     },
     "execution_count": 7,
     "metadata": {},
     "output_type": "execute_result"
    }
   ],
   "source": [
    "data.describe()                                                    # Gives Descriptive Statistics of the numeric columns of data"
   ]
  },
  {
   "cell_type": "code",
   "execution_count": 8,
   "id": "3b7112f4",
   "metadata": {},
   "outputs": [
    {
     "name": "stdout",
     "output_type": "stream",
     "text": [
      "AnnualIncomeClass\n",
      "High Income      159\n",
      "Low Income       386\n",
      "Middle Income    409\n",
      "dtype: int64\n"
     ]
    },
    {
     "data": {
      "image/png": "[encoded data removed]",
      "text/plain": [
       "<Figure size 432x288 with 1 Axes>"
      ]
     },
     "metadata": {
      "needs_background": "light"
     },
     "output_type": "display_data"
    }
   ],
   "source": [
    "income = data.groupby(\"AnnualIncomeClass\").size()\n",
    "print(income)\n",
    "plt.hist(data.AnnualIncomeClass)\n",
    "plt.ylabel(\"Count of people based on Income class\")\n",
    "plt.xlabel(\"Income class\")\n",
    "plt.title(\"Income Class Grouping\");"
   ]
  },
  {
   "cell_type": "markdown",
   "id": "e6b9c196",
   "metadata": {},
   "source": [
    "The above charts represents the income class of customers in our data. About 85% of customers belongs to Low and Middle Income class."
   ]
  },
  {
   "cell_type": "code",
   "execution_count": 9,
   "id": "a84fa4d0",
   "metadata": {},
   "outputs": [
    {
     "data": {
      "text/plain": [
       "(array([ 62.,   0.,  71.,   0.,   0.,  70.,   0.,   0., 236.,   0., 103.,\n",
       "          0.,   0.,   0.,   0.,   0.,  29.,   0.,   0., 107.,   0.,  52.,\n",
       "          0.,   0.,  67.,   0.,   0., 126.,   0.,  31.]),\n",
       " array([27.        , 27.36666667, 27.73333333, 28.1       , 28.46666667,\n",
       "        28.83333333, 29.2       , 29.56666667, 29.93333333, 30.3       ,\n",
       "        30.66666667, 31.03333333, 31.4       , 31.76666667, 32.13333333,\n",
       "        32.5       , 32.86666667, 33.23333333, 33.6       , 33.96666667,\n",
       "        34.33333333, 34.7       , 35.06666667, 35.43333333, 35.8       ,\n",
       "        36.16666667, 36.53333333, 36.9       , 37.26666667, 37.63333333,\n",
       "        38.        ]),\n",
       " <BarContainer object of 30 artists>)"
      ]
     },
     "execution_count": 9,
     "metadata": {},
     "output_type": "execute_result"
    },
    {
     "data": {
      "image/png": "[encoded data removed]",
      "text/plain": [
       "<Figure size 432x288 with 1 Axes>"
      ]
     },
     "metadata": {
      "needs_background": "light"
     },
     "output_type": "display_data"
    }
   ],
   "source": [
    "plt.hist(data.Age,bins = 30)"
   ]
  },
  {
   "cell_type": "markdown",
   "id": "22290ecb",
   "metadata": {},
   "source": [
    "Most of customers in the data are of middle age group ranging from 27 year to 38 years."
   ]
  },
  {
   "cell_type": "code",
   "execution_count": 10,
   "id": "8a667415",
   "metadata": {},
   "outputs": [
    {
     "name": "stdout",
     "output_type": "stream",
     "text": [
      "No           608\n",
      "Yes          286\n",
      "No Record     60\n",
      "Name: FrequentFlyer, dtype: int64\n"
     ]
    },
    {
     "data": {
      "image/png": "[encoded data removed]",
      "text/plain": [
       "<Figure size 432x288 with 1 Axes>"
      ]
     },
     "metadata": {},
     "output_type": "display_data"
    }
   ],
   "source": [
    "print(data.FrequentFlyer.value_counts())\n",
    "mylabels = [\"No\", \"Yes\", \"No Record\"]\n",
    "myexplode = [0.2, 0, 0]\n",
    "\n",
    "plt.pie(data.FrequentFlyer.value_counts(), labels = mylabels, explode = myexplode, autopct='%1.0f%%')\n",
    "plt.show() "
   ]
  },
  {
   "cell_type": "markdown",
   "id": "e4e46d4a",
   "metadata": {},
   "source": [
    "Most of the customers are Frequent flyers with the Tours and Travels. We have 60% of new customers in the given data."
   ]
  },
  {
   "cell_type": "markdown",
   "id": "8396d6b1",
   "metadata": {},
   "source": [
    "#### Target over Age"
   ]
  },
  {
   "cell_type": "code",
   "execution_count": 11,
   "id": "ffac91b9",
   "metadata": {},
   "outputs": [
    {
     "data": {
      "image/png": "[encoded data removed]",
      "text/plain": [
       "<Figure size 432x288 with 1 Axes>"
      ]
     },
     "metadata": {
      "needs_background": "light"
     },
     "output_type": "display_data"
    }
   ],
   "source": [
    "sns.boxplot(data = data, x = 'Target', y = 'Age')\n",
    "plt.title(\"Target over Age\")\n",
    "plt.show()"
   ]
  },
  {
   "cell_type": "markdown",
   "id": "09a6fde2",
   "metadata": {},
   "source": [
    "Most of the churned customers fall under age group of 28 to 35 years."
   ]
  },
  {
   "cell_type": "markdown",
   "id": "17123c49",
   "metadata": {},
   "source": [
    "#### Target over Accounts synced with Social Media "
   ]
  },
  {
   "cell_type": "code",
   "execution_count": 12,
   "id": "eaa9c585",
   "metadata": {},
   "outputs": [
    {
     "data": {
      "image/png": "[encoded data removed]",
      "text/plain": [
       "<Figure size 432x288 with 1 Axes>"
      ]
     },
     "metadata": {
      "needs_background": "light"
     },
     "output_type": "display_data"
    }
   ],
   "source": [
    "x = data.groupby(['Target','AccountSyncedToSocialMedia']).size().reset_index(name = 'Count')\n",
    "sns.barplot(x = 'Target', y = 'Count', hue = 'AccountSyncedToSocialMedia', data = x)\n",
    "plt.title(\"Target over Account Synced To Social Media\")\n",
    "plt.show()"
   ]
  },
  {
   "cell_type": "markdown",
   "id": "35e99804",
   "metadata": {},
   "source": [
    "Customers whose account is not linked with any social media platform churned more."
   ]
  },
  {
   "cell_type": "markdown",
   "id": "5e8fa7e2",
   "metadata": {},
   "source": [
    "#### Target over Income class of customers"
   ]
  },
  {
   "cell_type": "code",
   "execution_count": 13,
   "id": "579394a3",
   "metadata": {},
   "outputs": [
    {
     "data": {
      "image/png": "[encoded data removed]",
      "text/plain": [
       "<Figure size 432x288 with 1 Axes>"
      ]
     },
     "metadata": {
      "needs_background": "light"
     },
     "output_type": "display_data"
    }
   ],
   "source": [
    "sns.countplot(data=data,x='AnnualIncomeClass',hue='Target')\n",
    "plt.show()"
   ]
  },
  {
   "cell_type": "markdown",
   "id": "232a50f0",
   "metadata": {},
   "source": [
    "From the above plot we can observe that, customers who belongs to low income and high income class churned more compared to Middle income class."
   ]
  },
  {
   "cell_type": "markdown",
   "id": "78e1b9e2",
   "metadata": {},
   "source": [
    "#### Target over Services opted"
   ]
  },
  {
   "cell_type": "code",
   "execution_count": 14,
   "id": "f3afefaf",
   "metadata": {},
   "outputs": [
    {
     "data": {
      "image/png": "[encoded data removed]",
      "text/plain": [
       "<Figure size 432x288 with 1 Axes>"
      ]
     },
     "metadata": {
      "needs_background": "light"
     },
     "output_type": "display_data"
    }
   ],
   "source": [
    "sns.countplot(data=data,x='ServicesOpted',hue='Target')\n",
    "plt.show()"
   ]
  },
  {
   "cell_type": "markdown",
   "id": "fb13850a",
   "metadata": {},
   "source": [
    "Customers with more less number of services opted are more compared to customers who opted more services"
   ]
  },
  {
   "cell_type": "markdown",
   "id": "e6c95c03",
   "metadata": {},
   "source": [
    "### Correlation Matrix of Features"
   ]
  },
  {
   "cell_type": "code",
   "execution_count": 15,
   "id": "37f27e7e",
   "metadata": {},
   "outputs": [
    {
     "name": "stdout",
     "output_type": "stream",
     "text": [
      "Target           1.000000\n",
      "ServicesOpted    0.038646\n",
      "Age             -0.131534\n",
      "Name: Target, dtype: float64\n"
     ]
    },
    {
     "data": {
      "text/plain": [
       "<AxesSubplot:>"
      ]
     },
     "execution_count": 15,
     "metadata": {},
     "output_type": "execute_result"
    },
    {
     "data": {
      "image/png": "[encoded data removed]",
      "text/plain": [
       "<Figure size 432x288 with 2 Axes>"
      ]
     },
     "metadata": {
      "needs_background": "light"
     },
     "output_type": "display_data"
    }
   ],
   "source": [
    "Data_Correlation=data.corr()\n",
    "print(Data_Correlation[\"Target\"].sort_values(ascending=False))\n",
    "sns.heatmap(Data_Correlation,annot=True, fmt='1.2f')"
   ]
  },
  {
   "cell_type": "markdown",
   "id": "7a9a5674",
   "metadata": {},
   "source": [
    "## Building Predictive Models"
   ]
  },
  {
   "cell_type": "markdown",
   "id": "2ebaa228",
   "metadata": {},
   "source": [
    "### Data Cleaning"
   ]
  },
  {
   "cell_type": "code",
   "execution_count": 16,
   "id": "c732c92e",
   "metadata": {},
   "outputs": [
    {
     "data": {
      "text/html": [
       "<div>\n",
       "<style scoped>\n",
       "    .dataframe tbody tr th:only-of-type {\n",
       "        vertical-align: middle;\n",
       "    }\n",
       "\n",
       "    .dataframe tbody tr th {\n",
       "        vertical-align: top;\n",
       "    }\n",
       "\n",
       "    .dataframe thead th {\n",
       "        text-align: right;\n",
       "    }\n",
       "</style>\n",
       "<table border=\"1\" class=\"dataframe\">\n",
       "  <thead>\n",
       "    <tr style=\"text-align: right;\">\n",
       "      <th></th>\n",
       "      <th>Age</th>\n",
       "      <th>FrequentFlyer</th>\n",
       "      <th>AnnualIncomeClass</th>\n",
       "      <th>ServicesOpted</th>\n",
       "      <th>AccountSyncedToSocialMedia</th>\n",
       "      <th>BookedHotelOrNot</th>\n",
       "      <th>Target</th>\n",
       "    </tr>\n",
       "  </thead>\n",
       "  <tbody>\n",
       "    <tr>\n",
       "      <th>0</th>\n",
       "      <td>34</td>\n",
       "      <td>No</td>\n",
       "      <td>Middle Income</td>\n",
       "      <td>6</td>\n",
       "      <td>No</td>\n",
       "      <td>Yes</td>\n",
       "      <td>0</td>\n",
       "    </tr>\n",
       "    <tr>\n",
       "      <th>1</th>\n",
       "      <td>34</td>\n",
       "      <td>Yes</td>\n",
       "      <td>Low Income</td>\n",
       "      <td>5</td>\n",
       "      <td>Yes</td>\n",
       "      <td>No</td>\n",
       "      <td>1</td>\n",
       "    </tr>\n",
       "    <tr>\n",
       "      <th>2</th>\n",
       "      <td>37</td>\n",
       "      <td>No</td>\n",
       "      <td>Middle Income</td>\n",
       "      <td>3</td>\n",
       "      <td>Yes</td>\n",
       "      <td>No</td>\n",
       "      <td>0</td>\n",
       "    </tr>\n",
       "    <tr>\n",
       "      <th>3</th>\n",
       "      <td>30</td>\n",
       "      <td>No</td>\n",
       "      <td>Middle Income</td>\n",
       "      <td>2</td>\n",
       "      <td>No</td>\n",
       "      <td>No</td>\n",
       "      <td>0</td>\n",
       "    </tr>\n",
       "    <tr>\n",
       "      <th>4</th>\n",
       "      <td>30</td>\n",
       "      <td>No</td>\n",
       "      <td>Low Income</td>\n",
       "      <td>1</td>\n",
       "      <td>No</td>\n",
       "      <td>No</td>\n",
       "      <td>0</td>\n",
       "    </tr>\n",
       "  </tbody>\n",
       "</table>\n",
       "</div>"
      ],
      "text/plain": [
       "   Age FrequentFlyer AnnualIncomeClass  ServicesOpted  \\\n",
       "0   34            No     Middle Income              6   \n",
       "1   34           Yes        Low Income              5   \n",
       "2   37            No     Middle Income              3   \n",
       "3   30            No     Middle Income              2   \n",
       "4   30            No        Low Income              1   \n",
       "\n",
       "  AccountSyncedToSocialMedia BookedHotelOrNot  Target  \n",
       "0                         No              Yes       0  \n",
       "1                        Yes               No       1  \n",
       "2                        Yes               No       0  \n",
       "3                         No               No       0  \n",
       "4                         No               No       0  "
      ]
     },
     "execution_count": 16,
     "metadata": {},
     "output_type": "execute_result"
    }
   ],
   "source": [
    "data.head()"
   ]
  },
  {
   "cell_type": "code",
   "execution_count": 17,
   "id": "2990e240",
   "metadata": {
    "scrolled": true
   },
   "outputs": [
    {
     "data": {
      "text/html": [
       "<div>\n",
       "<style scoped>\n",
       "    .dataframe tbody tr th:only-of-type {\n",
       "        vertical-align: middle;\n",
       "    }\n",
       "\n",
       "    .dataframe tbody tr th {\n",
       "        vertical-align: top;\n",
       "    }\n",
       "\n",
       "    .dataframe thead th {\n",
       "        text-align: right;\n",
       "    }\n",
       "</style>\n",
       "<table border=\"1\" class=\"dataframe\">\n",
       "  <thead>\n",
       "    <tr style=\"text-align: right;\">\n",
       "      <th></th>\n",
       "      <th>data type</th>\n",
       "      <th>percent missing</th>\n",
       "      <th>No. unique</th>\n",
       "      <th>unique values</th>\n",
       "    </tr>\n",
       "  </thead>\n",
       "  <tbody>\n",
       "    <tr>\n",
       "      <th>Age</th>\n",
       "      <td>int64</td>\n",
       "      <td>0.0</td>\n",
       "      <td>11</td>\n",
       "      <td>[34, 37, 30, 27, 36, 28, 35, 31, 38, 33, 29]</td>\n",
       "    </tr>\n",
       "    <tr>\n",
       "      <th>ServicesOpted</th>\n",
       "      <td>int64</td>\n",
       "      <td>0.0</td>\n",
       "      <td>6</td>\n",
       "      <td>[6, 5, 3, 2, 1, 4]</td>\n",
       "    </tr>\n",
       "    <tr>\n",
       "      <th>Target</th>\n",
       "      <td>int64</td>\n",
       "      <td>0.0</td>\n",
       "      <td>2</td>\n",
       "      <td>[0, 1]</td>\n",
       "    </tr>\n",
       "    <tr>\n",
       "      <th>FrequentFlyer</th>\n",
       "      <td>object</td>\n",
       "      <td>0.0</td>\n",
       "      <td>3</td>\n",
       "      <td>[No, Yes, No Record]</td>\n",
       "    </tr>\n",
       "    <tr>\n",
       "      <th>AnnualIncomeClass</th>\n",
       "      <td>object</td>\n",
       "      <td>0.0</td>\n",
       "      <td>3</td>\n",
       "      <td>[Middle Income, Low Income, High Income]</td>\n",
       "    </tr>\n",
       "    <tr>\n",
       "      <th>AccountSyncedToSocialMedia</th>\n",
       "      <td>object</td>\n",
       "      <td>0.0</td>\n",
       "      <td>2</td>\n",
       "      <td>[No, Yes]</td>\n",
       "    </tr>\n",
       "    <tr>\n",
       "      <th>BookedHotelOrNot</th>\n",
       "      <td>object</td>\n",
       "      <td>0.0</td>\n",
       "      <td>2</td>\n",
       "      <td>[Yes, No]</td>\n",
       "    </tr>\n",
       "  </tbody>\n",
       "</table>\n",
       "</div>"
      ],
      "text/plain": [
       "                           data type  percent missing  No. unique  \\\n",
       "Age                            int64              0.0          11   \n",
       "ServicesOpted                  int64              0.0           6   \n",
       "Target                         int64              0.0           2   \n",
       "FrequentFlyer                 object              0.0           3   \n",
       "AnnualIncomeClass             object              0.0           3   \n",
       "AccountSyncedToSocialMedia    object              0.0           2   \n",
       "BookedHotelOrNot              object              0.0           2   \n",
       "\n",
       "                                                           unique values  \n",
       "Age                         [34, 37, 30, 27, 36, 28, 35, 31, 38, 33, 29]  \n",
       "ServicesOpted                                         [6, 5, 3, 2, 1, 4]  \n",
       "Target                                                            [0, 1]  \n",
       "FrequentFlyer                                       [No, Yes, No Record]  \n",
       "AnnualIncomeClass               [Middle Income, Low Income, High Income]  \n",
       "AccountSyncedToSocialMedia                                     [No, Yes]  \n",
       "BookedHotelOrNot                                               [Yes, No]  "
      ]
     },
     "execution_count": 17,
     "metadata": {},
     "output_type": "execute_result"
    }
   ],
   "source": [
    "sniff_modified(data)"
   ]
  },
  {
   "cell_type": "markdown",
   "id": "e9aa8035",
   "metadata": {},
   "source": [
    "We have 4 categorical features. Only FrequentFlyer feature has missing records which needs to be handled. We need to convert other categorical feature to numerical features to train the model."
   ]
  },
  {
   "cell_type": "code",
   "execution_count": 18,
   "id": "8593ae29",
   "metadata": {},
   "outputs": [],
   "source": [
    "data['FrequentFlyer'] = data['FrequentFlyer'].replace('No Record', np.nan) "
   ]
  },
  {
   "cell_type": "markdown",
   "id": "0924f547",
   "metadata": {},
   "source": [
    "We have replaced the missing records with nan values"
   ]
  },
  {
   "cell_type": "code",
   "execution_count": 19,
   "id": "dff7e5fc",
   "metadata": {},
   "outputs": [
    {
     "data": {
      "text/plain": [
       "(954, 7)"
      ]
     },
     "execution_count": 19,
     "metadata": {},
     "output_type": "execute_result"
    }
   ],
   "source": [
    "data.shape           # checking the shape of data"
   ]
  },
  {
   "cell_type": "code",
   "execution_count": 20,
   "id": "919b6155",
   "metadata": {},
   "outputs": [],
   "source": [
    "data = data.dropna()"
   ]
  },
  {
   "cell_type": "markdown",
   "id": "b1d63239",
   "metadata": {},
   "source": [
    "We have dropped the records with nan values using dropna() method."
   ]
  },
  {
   "cell_type": "code",
   "execution_count": 21,
   "id": "3c8fb314",
   "metadata": {},
   "outputs": [
    {
     "data": {
      "text/plain": [
       "(894, 7)"
      ]
     },
     "execution_count": 21,
     "metadata": {},
     "output_type": "execute_result"
    }
   ],
   "source": [
    "data.shape"
   ]
  },
  {
   "cell_type": "markdown",
   "id": "ad90ce2d",
   "metadata": {},
   "source": [
    "After removing records with null values the shape of the data is 894 rows."
   ]
  },
  {
   "cell_type": "code",
   "execution_count": 22,
   "id": "d52ea95c",
   "metadata": {},
   "outputs": [
    {
     "data": {
      "text/html": [
       "<div>\n",
       "<style scoped>\n",
       "    .dataframe tbody tr th:only-of-type {\n",
       "        vertical-align: middle;\n",
       "    }\n",
       "\n",
       "    .dataframe tbody tr th {\n",
       "        vertical-align: top;\n",
       "    }\n",
       "\n",
       "    .dataframe thead th {\n",
       "        text-align: right;\n",
       "    }\n",
       "</style>\n",
       "<table border=\"1\" class=\"dataframe\">\n",
       "  <thead>\n",
       "    <tr style=\"text-align: right;\">\n",
       "      <th></th>\n",
       "      <th>data type</th>\n",
       "      <th>percent missing</th>\n",
       "      <th>No. unique</th>\n",
       "      <th>unique values</th>\n",
       "    </tr>\n",
       "  </thead>\n",
       "  <tbody>\n",
       "    <tr>\n",
       "      <th>Age</th>\n",
       "      <td>int64</td>\n",
       "      <td>0.0</td>\n",
       "      <td>11</td>\n",
       "      <td>[34, 37, 30, 27, 36, 28, 31, 38, 33, 35, 29]</td>\n",
       "    </tr>\n",
       "    <tr>\n",
       "      <th>ServicesOpted</th>\n",
       "      <td>int64</td>\n",
       "      <td>0.0</td>\n",
       "      <td>6</td>\n",
       "      <td>[6, 5, 3, 2, 1, 4]</td>\n",
       "    </tr>\n",
       "    <tr>\n",
       "      <th>Target</th>\n",
       "      <td>int64</td>\n",
       "      <td>0.0</td>\n",
       "      <td>2</td>\n",
       "      <td>[0, 1]</td>\n",
       "    </tr>\n",
       "    <tr>\n",
       "      <th>FrequentFlyer</th>\n",
       "      <td>object</td>\n",
       "      <td>0.0</td>\n",
       "      <td>2</td>\n",
       "      <td>[No, Yes]</td>\n",
       "    </tr>\n",
       "    <tr>\n",
       "      <th>AnnualIncomeClass</th>\n",
       "      <td>object</td>\n",
       "      <td>0.0</td>\n",
       "      <td>3</td>\n",
       "      <td>[Middle Income, Low Income, High Income]</td>\n",
       "    </tr>\n",
       "    <tr>\n",
       "      <th>AccountSyncedToSocialMedia</th>\n",
       "      <td>object</td>\n",
       "      <td>0.0</td>\n",
       "      <td>2</td>\n",
       "      <td>[No, Yes]</td>\n",
       "    </tr>\n",
       "    <tr>\n",
       "      <th>BookedHotelOrNot</th>\n",
       "      <td>object</td>\n",
       "      <td>0.0</td>\n",
       "      <td>2</td>\n",
       "      <td>[Yes, No]</td>\n",
       "    </tr>\n",
       "  </tbody>\n",
       "</table>\n",
       "</div>"
      ],
      "text/plain": [
       "                           data type  percent missing  No. unique  \\\n",
       "Age                            int64              0.0          11   \n",
       "ServicesOpted                  int64              0.0           6   \n",
       "Target                         int64              0.0           2   \n",
       "FrequentFlyer                 object              0.0           2   \n",
       "AnnualIncomeClass             object              0.0           3   \n",
       "AccountSyncedToSocialMedia    object              0.0           2   \n",
       "BookedHotelOrNot              object              0.0           2   \n",
       "\n",
       "                                                           unique values  \n",
       "Age                         [34, 37, 30, 27, 36, 28, 31, 38, 33, 35, 29]  \n",
       "ServicesOpted                                         [6, 5, 3, 2, 1, 4]  \n",
       "Target                                                            [0, 1]  \n",
       "FrequentFlyer                                                  [No, Yes]  \n",
       "AnnualIncomeClass               [Middle Income, Low Income, High Income]  \n",
       "AccountSyncedToSocialMedia                                     [No, Yes]  \n",
       "BookedHotelOrNot                                               [Yes, No]  "
      ]
     },
     "execution_count": 22,
     "metadata": {},
     "output_type": "execute_result"
    }
   ],
   "source": [
    "sniff_modified(data)"
   ]
  },
  {
   "cell_type": "markdown",
   "id": "278008a1",
   "metadata": {},
   "source": [
    "Now there are no missing values in the data"
   ]
  },
  {
   "cell_type": "code",
   "execution_count": 23,
   "id": "533709da",
   "metadata": {},
   "outputs": [],
   "source": [
    "import category_encoders as ce                                                                                                                                                                                   # Importing category encoders as ce            \n",
    "\n",
    "encoder = ce.OrdinalEncoder(mapping=[{'col': 'FrequentFlyer', 'mapping': {'Yes': 1, 'No': 0}},\n",
    "                                     {'col': 'AccountSyncedToSocialMedia', 'mapping': {'Yes': 1, 'No': 0}},  \n",
    "                                     {'col': 'BookedHotelOrNot', 'mapping': {'Yes': 1, 'No': 0}},  \n",
    "                                     {'col':'AnnualIncomeClass', 'mapping':{'Low Income':1,'Middle Income':2,'High Income':3}}])\n",
    "                                            \n",
    "                                                         # Instantiate the ordinal encoder by mapping the column that needs to be converted into numbers   \n",
    "encoder.fit(data)                 # Fits the data to the encoder\n",
    "data = encoder.transform(data)    # Transforms the data to dataframe"
   ]
  },
  {
   "cell_type": "markdown",
   "id": "fbd6e044",
   "metadata": {},
   "source": [
    "Doing ordinal encoding on the categorical columns and converting them into numerical features."
   ]
  },
  {
   "cell_type": "code",
   "execution_count": 24,
   "id": "4e5f8aca",
   "metadata": {},
   "outputs": [
    {
     "data": {
      "text/html": [
       "<div>\n",
       "<style scoped>\n",
       "    .dataframe tbody tr th:only-of-type {\n",
       "        vertical-align: middle;\n",
       "    }\n",
       "\n",
       "    .dataframe tbody tr th {\n",
       "        vertical-align: top;\n",
       "    }\n",
       "\n",
       "    .dataframe thead th {\n",
       "        text-align: right;\n",
       "    }\n",
       "</style>\n",
       "<table border=\"1\" class=\"dataframe\">\n",
       "  <thead>\n",
       "    <tr style=\"text-align: right;\">\n",
       "      <th></th>\n",
       "      <th>data type</th>\n",
       "      <th>percent missing</th>\n",
       "      <th>No. unique</th>\n",
       "      <th>unique values</th>\n",
       "    </tr>\n",
       "  </thead>\n",
       "  <tbody>\n",
       "    <tr>\n",
       "      <th>FrequentFlyer</th>\n",
       "      <td>int32</td>\n",
       "      <td>0.0</td>\n",
       "      <td>2</td>\n",
       "      <td>[0, 1]</td>\n",
       "    </tr>\n",
       "    <tr>\n",
       "      <th>AnnualIncomeClass</th>\n",
       "      <td>int32</td>\n",
       "      <td>0.0</td>\n",
       "      <td>3</td>\n",
       "      <td>[2, 1, 3]</td>\n",
       "    </tr>\n",
       "    <tr>\n",
       "      <th>AccountSyncedToSocialMedia</th>\n",
       "      <td>int32</td>\n",
       "      <td>0.0</td>\n",
       "      <td>2</td>\n",
       "      <td>[0, 1]</td>\n",
       "    </tr>\n",
       "    <tr>\n",
       "      <th>BookedHotelOrNot</th>\n",
       "      <td>int32</td>\n",
       "      <td>0.0</td>\n",
       "      <td>2</td>\n",
       "      <td>[1, 0]</td>\n",
       "    </tr>\n",
       "    <tr>\n",
       "      <th>Age</th>\n",
       "      <td>int64</td>\n",
       "      <td>0.0</td>\n",
       "      <td>11</td>\n",
       "      <td>[34, 37, 30, 27, 36, 28, 31, 38, 33, 35, 29]</td>\n",
       "    </tr>\n",
       "    <tr>\n",
       "      <th>ServicesOpted</th>\n",
       "      <td>int64</td>\n",
       "      <td>0.0</td>\n",
       "      <td>6</td>\n",
       "      <td>[6, 5, 3, 2, 1, 4]</td>\n",
       "    </tr>\n",
       "    <tr>\n",
       "      <th>Target</th>\n",
       "      <td>int64</td>\n",
       "      <td>0.0</td>\n",
       "      <td>2</td>\n",
       "      <td>[0, 1]</td>\n",
       "    </tr>\n",
       "  </tbody>\n",
       "</table>\n",
       "</div>"
      ],
      "text/plain": [
       "                           data type  percent missing  No. unique  \\\n",
       "FrequentFlyer                  int32              0.0           2   \n",
       "AnnualIncomeClass              int32              0.0           3   \n",
       "AccountSyncedToSocialMedia     int32              0.0           2   \n",
       "BookedHotelOrNot               int32              0.0           2   \n",
       "Age                            int64              0.0          11   \n",
       "ServicesOpted                  int64              0.0           6   \n",
       "Target                         int64              0.0           2   \n",
       "\n",
       "                                                           unique values  \n",
       "FrequentFlyer                                                     [0, 1]  \n",
       "AnnualIncomeClass                                              [2, 1, 3]  \n",
       "AccountSyncedToSocialMedia                                        [0, 1]  \n",
       "BookedHotelOrNot                                                  [1, 0]  \n",
       "Age                         [34, 37, 30, 27, 36, 28, 31, 38, 33, 35, 29]  \n",
       "ServicesOpted                                         [6, 5, 3, 2, 1, 4]  \n",
       "Target                                                            [0, 1]  "
      ]
     },
     "execution_count": 24,
     "metadata": {},
     "output_type": "execute_result"
    }
   ],
   "source": [
    "sniff_modified(data)"
   ]
  },
  {
   "cell_type": "markdown",
   "id": "846b930c",
   "metadata": {},
   "source": [
    "We could see that there are only numerical features in the data."
   ]
  },
  {
   "cell_type": "code",
   "execution_count": 25,
   "id": "8ea025c9",
   "metadata": {},
   "outputs": [
    {
     "name": "stdout",
     "output_type": "stream",
     "text": [
      "Target                        1.000000\n",
      "FrequentFlyer                 0.436410\n",
      "AnnualIncomeClass             0.148727\n",
      "AccountSyncedToSocialMedia    0.078608\n",
      "ServicesOpted                 0.045770\n",
      "Age                          -0.136133\n",
      "BookedHotelOrNot             -0.208839\n",
      "Name: Target, dtype: float64\n"
     ]
    },
    {
     "data": {
      "text/plain": [
       "<AxesSubplot:>"
      ]
     },
     "execution_count": 25,
     "metadata": {},
     "output_type": "execute_result"
    },
    {
     "data": {
      "image/png": "[encoded data removed]",
      "text/plain": [
       "<Figure size 432x288 with 2 Axes>"
      ]
     },
     "metadata": {
      "needs_background": "light"
     },
     "output_type": "display_data"
    }
   ],
   "source": [
    "Correlation_Matrix=data.corr()\n",
    "print(Correlation_Matrix[\"Target\"].sort_values(ascending=False))\n",
    "sns.heatmap(Correlation_Matrix,annot=True, fmt='1.2f')"
   ]
  },
  {
   "cell_type": "markdown",
   "id": "e9e8a7d9",
   "metadata": {},
   "source": [
    "'FrequentFlyer' feature has the highest correlation with Target variable and 'Age' and 'Booked hotel or not' feature have negative correlation with Target variable."
   ]
  },
  {
   "cell_type": "code",
   "execution_count": 26,
   "id": "6ca5e546",
   "metadata": {},
   "outputs": [],
   "source": [
    "X = data.drop(\"Target\",axis=1)               # Dropping Target column from the features for training data\n",
    "y = data[\"Target\"]                           # Taking target variable as testing data"
   ]
  },
  {
   "cell_type": "code",
   "execution_count": 27,
   "id": "b3d3c267",
   "metadata": {},
   "outputs": [],
   "source": [
    "X_train, X_test, Y_train, Y_test = train_test_split(X, y, test_size = 0.2,random_state = 1)\n",
    "                          # Splitting data to train and test data with 80% for training and 20% for testing the model"
   ]
  },
  {
   "cell_type": "code",
   "execution_count": 28,
   "id": "727f8570",
   "metadata": {},
   "outputs": [
    {
     "data": {
      "text/plain": [
       "(894, 7)"
      ]
     },
     "execution_count": 28,
     "metadata": {},
     "output_type": "execute_result"
    }
   ],
   "source": [
    "data.shape                                  # Checking shape of actual data"
   ]
  },
  {
   "cell_type": "code",
   "execution_count": 29,
   "id": "099354ff",
   "metadata": {},
   "outputs": [
    {
     "data": {
      "text/plain": [
       "(715, 6)"
      ]
     },
     "execution_count": 29,
     "metadata": {},
     "output_type": "execute_result"
    }
   ],
   "source": [
    "X_train.shape                               # 80% of data is in X_train"
   ]
  },
  {
   "cell_type": "markdown",
   "id": "b0d31cb1",
   "metadata": {},
   "source": [
    "## Logistic Regression"
   ]
  },
  {
   "cell_type": "code",
   "execution_count": 30,
   "id": "vertical-deadline",
   "metadata": {},
   "outputs": [],
   "source": [
    "from sklearn.linear_model import LogisticRegression\n",
    "def lr_model():\n",
    "  lr = LogisticRegression()\n",
    "  print_model_output(lr) "
   ]
  },
  {
   "cell_type": "markdown",
   "id": "682b7ee1",
   "metadata": {},
   "source": [
    "## Support Vector Machine"
   ]
  },
  {
   "cell_type": "code",
   "execution_count": 31,
   "id": "configured-simulation",
   "metadata": {},
   "outputs": [],
   "source": [
    "from sklearn.svm import SVC\n",
    "def svc_model(kernal):\n",
    "  svm_classifier = SVC(kernel=kernal)\n",
    "  print_model_output(svm_classifier) \n"
   ]
  },
  {
   "cell_type": "markdown",
   "id": "7f61e9a3",
   "metadata": {},
   "source": [
    "## Random Forest Classifier"
   ]
  },
  {
   "cell_type": "code",
   "execution_count": 32,
   "id": "union-nitrogen",
   "metadata": {},
   "outputs": [],
   "source": [
    "from sklearn.ensemble import RandomForestClassifier\n",
    "\n",
    "def rf_model(rand_state,estimators):\n",
    "  rfc = RandomForestClassifier(random_state=rand_state,n_estimators=estimators)\n",
    "  print_model_output(rfc) \n"
   ]
  },
  {
   "cell_type": "code",
   "execution_count": 33,
   "id": "statistical-stream",
   "metadata": {},
   "outputs": [],
   "source": [
    "from rfpimp import * \n",
    "\n",
    "def showimp(rf, X, y):                                                # Function used to show the feature importances\n",
    "    features = list(X.columns)                                        # Takes the list of all columns into the features\n",
    "    I = importances(rf, X, y, features=features)                      # Function that is used to show the importances of the features\n",
    "    plot_importances(I, color='#4575b4')                              # Plots the feature importances"
   ]
  },
  {
   "cell_type": "code",
   "execution_count": 34,
   "id": "right-diabetes",
   "metadata": {},
   "outputs": [],
   "source": [
    "from sklearn.metrics import confusion_matrix      \n",
    "                                                               # Function that is used to print the confusion matrix\n",
    "def conf_matrix_plot(cm):\n",
    "  df_cm = pd.DataFrame(cm, range(2),range(2))\n",
    "  sns.set(font_scale=1.4)\n",
    "  sns.heatmap(df_cm, annot=True,annot_kws={\"size\": 16})\n"
   ]
  },
  {
   "cell_type": "code",
   "execution_count": 35,
   "id": "dried-speech",
   "metadata": {},
   "outputs": [],
   "source": [
    "def print_model_output(model):\n",
    "  model.fit(X_train,Y_train)                                                         # Fitting the data to the model\n",
    "  y_pred = model.predict(X_test)                                                     # Predicting the values\n",
    "  print(\"--------------------------------------------\")\n",
    "  print(\"Mean Absolute Error (MAE): \",metrics.mean_absolute_error(Y_test, y_pred))   # Mean Absolute Error\n",
    "  print(\"--------------------------------------------\")\n",
    "  print(\"Confusion Matrix : \")\n",
    "  cm = confusion_matrix(Y_test,y_pred)                                               # Printing Confusion matrix\n",
    "  print(cm)\n",
    "  conf_matrix_plot(cm) \n",
    "  print(\"--------------------------------------------\")\n",
    "  print(\"Accuracy: \",accuracy_score(Y_test,y_pred))                                  # Accuracy of the model\n",
    "  print(\"Precision: \",precision_score(Y_test,y_pred))                                # Precision score of the models\n",
    "  print(\"--------------------------------------------\")\n",
    "  print(\" Feature Importances\")\n",
    "  showimp(model, X, y)                                                               # Feature Importances\n"
   ]
  },
  {
   "cell_type": "code",
   "execution_count": 36,
   "id": "fleet-equipment",
   "metadata": {},
   "outputs": [
    {
     "name": "stdout",
     "output_type": "stream",
     "text": [
      "--------------------------------------------\n",
      "Mean Absolute Error (MAE):  0.18435754189944134\n",
      "--------------------------------------------\n",
      "Confusion Matrix : \n",
      "[[131  16]\n",
      " [ 17  15]]\n",
      "--------------------------------------------\n",
      "Accuracy:  0.8156424581005587\n",
      "Precision:  0.4838709677419355\n",
      "--------------------------------------------\n",
      " Feature Importances\n"
     ]
    },
    {
     "data": {
      "image/png": "[encoded data removed]",
      "text/plain": [
       "<Figure size 288x108 with 1 Axes>"
      ]
     },
     "metadata": {},
     "output_type": "display_data"
    }
   ],
   "source": [
    "lr_model()                            # Calling an instance of the Linear Regression Model"
   ]
  },
  {
   "cell_type": "code",
   "execution_count": 37,
   "id": "distinguished-concert",
   "metadata": {},
   "outputs": [
    {
     "name": "stdout",
     "output_type": "stream",
     "text": [
      "--------------------------------------------\n",
      "Mean Absolute Error (MAE):  0.1787709497206704\n",
      "--------------------------------------------\n",
      "Confusion Matrix : \n",
      "[[147   0]\n",
      " [ 32   0]]\n",
      "--------------------------------------------\n",
      "Accuracy:  0.8212290502793296\n",
      "Precision:  0.0\n",
      "--------------------------------------------\n",
      " Feature Importances\n"
     ]
    },
    {
     "data": {
      "image/png": "[encoded data removed]",
      "text/plain": [
       "<Figure size 288x108 with 1 Axes>"
      ]
     },
     "metadata": {},
     "output_type": "display_data"
    }
   ],
   "source": [
    "svc_model('sigmoid')                 # Calling an instance of the SVC model with activation function as sigmoid"
   ]
  },
  {
   "cell_type": "code",
   "execution_count": 38,
   "id": "helpful-inside",
   "metadata": {},
   "outputs": [
    {
     "name": "stdout",
     "output_type": "stream",
     "text": [
      "--------------------------------------------\n",
      "Mean Absolute Error (MAE):  0.1340782122905028\n",
      "--------------------------------------------\n",
      "Confusion Matrix : \n",
      "[[134  13]\n",
      " [ 11  21]]\n",
      "--------------------------------------------\n",
      "Accuracy:  0.8659217877094972\n",
      "Precision:  0.6176470588235294\n",
      "--------------------------------------------\n",
      " Feature Importances\n"
     ]
    },
    {
     "data": {
      "image/png": "[encoded data removed]",
      "text/plain": [
       "<Figure size 288x108 with 1 Axes>"
      ]
     },
     "metadata": {},
     "output_type": "display_data"
    }
   ],
   "source": [
    "rf_model(151,100)                # Calling an instance of the Random Forest Classifier Model with 100 decision trees and random sate is defined."
   ]
  },
  {
   "cell_type": "markdown",
   "id": "0b415b01",
   "metadata": {},
   "source": [
    "### Model and Accuracy"
   ]
  },
  {
   "cell_type": "markdown",
   "id": "2642cdb9",
   "metadata": {},
   "source": [
    "<table>\n",
    "<tr>\n",
    "<th>Model</th>\n",
    "<th>Accuracy</th>\n",
    "</tr>\n",
    "<tr>\n",
    "<td>Logistic Regression</td>\n",
    "<td>0.81</td>\n",
    "</tr>\n",
    "\n",
    "<tr>\n",
    "<td>Support Vector Machine SVM Model</td>\n",
    "<td>0.82</td>\n",
    "\n",
    "</tr>\n",
    "    \n",
    "<tr>\n",
    "<td>Random Forest Model</td>\n",
    "<td>0.87</td>\n",
    "\n",
    "</tr>\n",
    "\n",
    "\n",
    "</table>\n",
    "\n",
    "From the analysis we have observed Random Forest Classifier model is performing well."
   ]
  },
  {
   "cell_type": "markdown",
   "id": "b216cc8e",
   "metadata": {},
   "source": [
    "## Recommendations"
   ]
  },
  {
   "cell_type": "markdown",
   "id": "17ff94d2",
   "metadata": {},
   "source": [
    "-> Churn and age(27 to 28) have a positive correlation, indicating that younger people are more likely to churn.\n",
    "\n",
    "-> Churn and frequent flight have a positive correlation. \n",
    "\n",
    "-> Middle-income people have a negative correlation with churn, low-income people and high income class have a positive correlation with churn. We should consider providing deals, discounts and low reasonable prices for the low income people. On the other hand, we need to take feedback from the high income class customer and provide them with premium services based on their feedback\n",
    "\n",
    "-> Customers with more less number of services opted churned more compared to customers who opted more services. We need to consider providing services to all income class customers which helps in reducing the churn.\n",
    "\n",
    "-> Both positive and negative aspects of account syncing to social media and churn are present. It implies that both parties use social media.\n",
    "\n",
    "**As a result, in order to avoid churn, We must pay special attention to persons between the ages of 27 and 28, who fly frequently, who have chosen less services in recent years, who have a high income.**\n"
   ]
  },
  {
   "cell_type": "code",
   "execution_count": null,
   "id": "9d90dbbe",
   "metadata": {},
   "outputs": [],
   "source": []
  }
 ],
 "metadata": {
  "kernelspec": {
   "display_name": "Python 3",
   "language": "python",
   "name": "python3"
  },
  "language_info": {
   "codemirror_mode": {
    "name": "ipython",
    "version": 3
   },
   "file_extension": ".py",
   "mimetype": "text/x-python",
   "name": "python",
   "nbconvert_exporter": "python",
   "pygments_lexer": "ipython3",
   "version": "3.8.5"
  }
 },
 "nbformat": 4,
 "nbformat_minor": 5
}
